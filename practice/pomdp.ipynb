{
 "cells": [
  {
   "cell_type": "code",
   "execution_count": 9,
   "metadata": {},
   "outputs": [
    {
     "name": "stdout",
     "output_type": "stream",
     "text": [
      "[-0.01124518 -0.01243183] 0.005 False False {}\n",
      "[-0.01475271 -0.00667373] 0.005 False False {}\n",
      "[-0.02215909  0.00485909] 0.005 False False {}\n",
      "[-0.03346603  0.02220337] 0.005 False False {}\n",
      "[-0.04867672  0.04543179] 0.005 False False {}\n",
      "[-0.06779549  0.07465142] 0.005 False False {}\n",
      "[-0.09082723  0.1100015 ] 0.005 False False {}\n",
      "[-0.1177766  0.1516502] 0.005 False False {}\n",
      "[-0.14864697  0.19979036] 0.005 False False {}\n",
      "[-0.18343897  0.25463375] 0.005 True False {}\n"
     ]
    }
   ],
   "source": [
    "from popgym.envs import PositionOnlyCartPole\n",
    "\n",
    "game = PositionOnlyCartPole()\n",
    "done = False\n",
    "obs, info = game.reset()\n",
    "\n",
    "while not done:\n",
    "    action = 0\n",
    "    obs, reward, done, trunc, infos = game.step(action)\n",
    "    print(obs, reward, done, trunc, infos)"
   ]
  }
 ],
 "metadata": {
  "kernelspec": {
   "display_name": "base",
   "language": "python",
   "name": "python3"
  },
  "language_info": {
   "codemirror_mode": {
    "name": "ipython",
    "version": 3
   },
   "file_extension": ".py",
   "mimetype": "text/x-python",
   "name": "python",
   "nbconvert_exporter": "python",
   "pygments_lexer": "ipython3",
   "version": "3.11.5"
  }
 },
 "nbformat": 4,
 "nbformat_minor": 2
}
