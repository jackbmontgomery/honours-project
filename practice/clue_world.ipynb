{
 "cells": [
  {
   "cell_type": "markdown",
   "metadata": {},
   "source": [
    "### Imports"
   ]
  },
  {
   "cell_type": "code",
   "execution_count": 95,
   "metadata": {},
   "outputs": [],
   "source": [
    "import os\n",
    "import sys\n",
    "import pathlib\n",
    "import numpy as np\n",
    "\n",
    "from pymdp.agent import Agent\n",
    "from pymdp import utils, maths\n",
    "\n",
    "import matplotlib.pyplot as plt\n",
    "import matplotlib.patches as patches\n",
    "import matplotlib.cm as cm"
   ]
  },
  {
   "cell_type": "markdown",
   "metadata": {},
   "source": [
    "## Grid World Parameters"
   ]
  },
  {
   "cell_type": "code",
   "execution_count": 96,
   "metadata": {},
   "outputs": [],
   "source": [
    "grid_dims       = [4, 3]\n",
    "num_grid_points = np.prod(grid_dims)\n",
    "\n",
    "grid = np.arange(num_grid_points).reshape(grid_dims)\n",
    "it = np.nditer(grid, flags=[\"multi_index\"])\n",
    "\n",
    "loc_list = []\n",
    "while not it.finished:\n",
    "    loc_list.append(it.multi_index)\n",
    "    it.iternext()\n",
    "\n",
    "clue_location = (3, 1)\n",
    "\n",
    "reward_conditions = [\"TOP\", \"BOTTOM\"]\n",
    "reward_locations = [(0, 2), (3, 2)]\n"
   ]
  },
  {
   "cell_type": "markdown",
   "metadata": {},
   "source": [
    "### Visualize the grid world\n"
   ]
  },
  {
   "cell_type": "code",
   "execution_count": 97,
   "metadata": {},
   "outputs": [
    {
     "data": {
      "image/png": "[encoded data removed]",
      "text/plain": [
       "<Figure size 1000x600 with 1 Axes>"
      ]
     },
     "metadata": {},
     "output_type": "display_data"
    }
   ],
   "source": [
    "import matplotlib.pyplot as plt\n",
    "import matplotlib.patches as patches\n",
    "import matplotlib.cm as cm\n",
    "\n",
    "# Create the plot\n",
    "fig, ax = plt.subplots(figsize=(10, 6))\n",
    "\n",
    "# Create the grid visualization\n",
    "X, Y = np.meshgrid(np.arange(grid_dims[1] + 1), np.arange(grid_dims[0] + 1))\n",
    "h = ax.pcolormesh(X, Y, np.ones(grid_dims), edgecolors='k', vmin=0, vmax=30, linewidth=3, cmap='coolwarm')\n",
    "ax.invert_yaxis()\n",
    "\n",
    "# Put gray boxes around the possible reward locations\n",
    "reward_top = ax.add_patch(patches.Rectangle((reward_locations[0][1], reward_locations[0][0]), 1.0, 1.0, linewidth=5, edgecolor='gray', facecolor='none'))\n",
    "reward_bottom = ax.add_patch(patches.Rectangle((reward_locations[1][1], reward_locations[1][0]), 1.0, 1.0, linewidth=5, edgecolor='gray', facecolor='none'))\n",
    "\n",
    "text_offsets = [0.4, 0.6]\n",
    "\n",
    "clue_grid = np.ones(grid_dims)\n",
    "clue_grid[clue_location[0], clue_location[1]] = 15.0\n",
    "\n",
    "# Highlight the clue and reward locations\n",
    "for ii, loc_ii in enumerate(reward_locations):\n",
    "    row_coord, column_coord = loc_ii\n",
    "    clue_grid[row_coord, column_coord] = 5.0\n",
    "    ax.text(column_coord + text_offsets[0], row_coord + text_offsets[1], \"\", fontsize=15, color='k', fontweight='bold')\n",
    "\n",
    "# Update the color map array\n",
    "h.set_array(clue_grid.ravel())\n",
    "\n",
    "# Improve grid and text appearance\n",
    "# for (i, j), val in np.ndenumerate(grid):\n",
    "#     ax.text(j + 0.5, i + 0.5, f'{i},{j}', ha='center', va='center', color='black', fontsize=12)\n",
    "\n",
    "# Plot the clue location\n",
    "ax.scatter(clue_location[1] + 0.5, clue_location[0] + 0.5, color='blue', s=200, label=\"Clue Location\", zorder=5)\n",
    "\n",
    "# Add a legend\n",
    "plt.legend()\n",
    "plt.title(\"Grid with Clue and Reward Locations\", fontsize=18, fontweight='bold')\n",
    "plt.show()\n",
    "\n",
    "def plot_beliefs(belief_dist, title_str=\"\"):\n",
    "    \"\"\"\n",
    "    Plot a categorical distribution or belief distribution, stored in the 1-D numpy vector `belief_dist`\n",
    "    \"\"\"\n",
    "\n",
    "    if not np.isclose(belief_dist.sum(), 1.0):\n",
    "      raise ValueError(\"Distribution not normalized! Please normalize\")\n",
    "\n",
    "    plt.grid(zorder=0)\n",
    "    plt.bar(range(belief_dist.shape[0]), belief_dist, color='r', zorder=3)\n",
    "    plt.xticks(range(belief_dist.shape[0]))\n",
    "    plt.title(title_str)\n",
    "    plt.show()\n",
    "\n"
   ]
  },
  {
   "cell_type": "markdown",
   "metadata": {},
   "source": [
    "### The observation model: **A** array"
   ]
  },
  {
   "cell_type": "code",
   "execution_count": 98,
   "metadata": {},
   "outputs": [],
   "source": [
    "num_states      = [num_grid_points, len(reward_conditions)]\n",
    "\n",
    "clue_names      = ['Null', 'reward_on_top', 'reward_on_bottom']\n",
    "reward_names    = ['Null', 'Cheese', 'Shock']\n",
    "\n",
    "num_obs         = [num_grid_points, len(clue_names), len(reward_names)]"
   ]
  },
  {
   "cell_type": "code",
   "execution_count": 99,
   "metadata": {},
   "outputs": [],
   "source": [
    "A_m_shapes = [ [o_dim] + num_states for o_dim in num_obs]\n",
    "A = utils.obj_array_zeros(A_m_shapes)\n",
    "\n",
    "# A[0] = np.tile(np.expand_dims(np.eye(num_grid_points), (-2, -1)), (1, 1, num_states[0]))\n",
    "A[0][:, :, 0] = np.eye(num_grid_points, num_grid_points)\n",
    "A[0][:, :, 1] = np.eye(num_grid_points, num_grid_points)\n",
    "\n",
    "\n",
    "# Clue observation\n",
    "A[1][0,:,:] = 1.0\n",
    "\n",
    "for i, reward_loc in enumerate(reward_locations):\n",
    "    \n",
    "    A[1][0,loc_list.index(clue_location),i] = 0.0\n",
    "    A[1][i+1,loc_list.index(clue_location),i] = 1.0\n",
    "\n",
    "# make the reward observation depend on the location (being at reward location) and the reward condition\n",
    "A[2][0,:,:] = 1.0\n",
    "\n",
    "rew_top_idx = loc_list.index(reward_locations[0]) # linear index of the location of the \"TOP\" reward location\n",
    "rew_bott_idx = loc_list.index(reward_locations[1]) # linear index of the location of the \"BOTTOM\" reward location\n",
    "\n",
    "# fill out the contingencies when the agent is in the \"TOP\" reward location\n",
    "A[2][0,rew_top_idx,:] = 0.0\n",
    "A[2][1,rew_top_idx,0] = 1.0\n",
    "A[2][2,rew_top_idx,1] = 1.0\n",
    "\n",
    "# fill out the contingencies when the agent is in the \"BOTTOM\" reward location\n",
    "A[2][0,rew_bott_idx,:] = 0.0\n",
    "A[2][1,rew_bott_idx,1] = 1.0\n",
    "A[2][2,rew_bott_idx,0] = 1.0"
   ]
  },
  {
   "cell_type": "markdown",
   "metadata": {},
   "source": [
    "### The transition model: **B** array"
   ]
  },
  {
   "cell_type": "code",
   "execution_count": 100,
   "metadata": {},
   "outputs": [],
   "source": [
    "# initialize `num_controls`\n",
    "num_controls = [5, 1, 1]\n",
    "\n",
    "# initialize the shapes of each sub-array `B[f]`\n",
    "B_f_shapes = [ [ns, ns, num_controls[f]] for f, ns in enumerate(num_states)]\n",
    "\n",
    "# create the `B` array and fill it out\n",
    "B = utils.obj_array_zeros(B_f_shapes)"
   ]
  },
  {
   "cell_type": "markdown",
   "metadata": {},
   "source": [
    "Fill out `B[0]` according to the expected consequences of each of the 5 actions. Note that we also create a list that stores the names of each action, for interpretability."
   ]
  },
  {
   "cell_type": "code",
   "execution_count": 101,
   "metadata": {},
   "outputs": [],
   "source": [
    "actions = [\"UP\", \"DOWN\", \"LEFT\", \"RIGHT\", \"STAY\"]\n",
    "\n",
    "# fill out `B[0]` using the \n",
    "for action_id, action_label in enumerate(actions):\n",
    "\n",
    "  for curr_state, grid_location in enumerate(loc_list):\n",
    "\n",
    "    y, x = grid_location\n",
    "\n",
    "    if action_label == \"UP\":\n",
    "      next_y = y - 1 if y > 0 else y \n",
    "      next_x = x\n",
    "    elif action_label == \"DOWN\":\n",
    "      next_y = y + 1 if y < (grid_dims[0]-1) else y \n",
    "      next_x = x\n",
    "    elif action_label == \"LEFT\":\n",
    "      next_x = x - 1 if x > 0 else x \n",
    "      next_y = y\n",
    "    elif action_label == \"RIGHT\":\n",
    "      next_x = x + 1 if x < (grid_dims[1]-1) else x \n",
    "      next_y = y\n",
    "    elif action_label == \"STAY\":\n",
    "      next_x = x\n",
    "      next_y = y\n",
    "\n",
    "    new_location = (next_y, next_x)\n",
    "    next_state = loc_list.index(new_location)\n",
    "    B[0][next_state, curr_state, action_id] = 1.0\n",
    "\n",
    "B[1][:,:,0] = np.eye(num_states[1])\n",
    "# B[2][:,:,0] = np.eye(num_states[2])"
   ]
  },
  {
   "cell_type": "markdown",
   "metadata": {},
   "source": [
    "### Prior preferences: the **C** vectors"
   ]
  },
  {
   "cell_type": "code",
   "execution_count": 102,
   "metadata": {},
   "outputs": [],
   "source": [
    "C = utils.obj_array_zeros(num_obs)\n",
    "\n",
    "C[2][1] = 2.0 # make the agent want to encounter the \"Cheese\" observation level\n",
    "C[2][2] = -4.0 # make the agent not want to encounter the \"Shock\" observation level"
   ]
  },
  {
   "cell_type": "markdown",
   "metadata": {},
   "source": [
    "### Prior over (initial) hidden states: the **D** vectors"
   ]
  },
  {
   "cell_type": "code",
   "execution_count": 103,
   "metadata": {},
   "outputs": [],
   "source": [
    "D = utils.obj_array_uniform(num_states)\n",
    "D[0] = utils.onehot(loc_list.index((0,0)), num_grid_points)"
   ]
  },
  {
   "cell_type": "markdown",
   "metadata": {},
   "source": [
    "## Generative process"
   ]
  },
  {
   "cell_type": "markdown",
   "metadata": {},
   "source": [
    "### Writing a custom `env` "
   ]
  },
  {
   "cell_type": "code",
   "execution_count": 104,
   "metadata": {},
   "outputs": [],
   "source": [
    "class GridWorldEnv():\n",
    "    \n",
    "    def __init__(self,starting_loc = (0,0), clue_loc = (2, 0), reward_condition = 'TOP'):\n",
    "\n",
    "        self.init_loc = starting_loc\n",
    "        self.current_location = self.init_loc\n",
    "\n",
    "        self.clue_loc = clue_loc\n",
    "\n",
    "        self.reward_condition = reward_condition\n",
    "        print(f'Starting location is {self.init_loc}, Reward condition is {self.reward_condition}')\n",
    "    \n",
    "    def step(self,action_label):\n",
    "\n",
    "        (Y, X) = self.current_location\n",
    "\n",
    "        if action_label == \"UP\": \n",
    "          \n",
    "          Y_new = Y - 1 if Y > 0 else Y\n",
    "          X_new = X\n",
    "\n",
    "        elif action_label == \"DOWN\": \n",
    "\n",
    "          Y_new = Y + 1 if Y < (grid_dims[0]-1) else Y\n",
    "          X_new = X\n",
    "\n",
    "        elif action_label == \"LEFT\": \n",
    "          Y_new = Y\n",
    "          X_new = X - 1 if X > 0 else X\n",
    "\n",
    "        elif action_label == \"RIGHT\": \n",
    "          Y_new = Y\n",
    "          X_new = X +1 if X < (grid_dims[1]-1) else X\n",
    "\n",
    "        elif action_label == \"STAY\":\n",
    "          Y_new, X_new = Y, X \n",
    "        \n",
    "        self.current_location = (Y_new, X_new) # store the new grid location\n",
    "\n",
    "        loc_obs = self.current_location # agent always directly observes the grid location they're in \n",
    "\n",
    "        if self.current_location == self.clue_loc:\n",
    "          clue_obs = clue_names[reward_conditions.index(self.reward_condition)+1]\n",
    "        else:\n",
    "          clue_obs = 'Null'\n",
    "        \n",
    "        # @NOTE: here we use the same variable `reward_locations` to create both the agent's generative model (the `A` matrix) as well as the generative process. \n",
    "        # This is just for simplicity, but it's not necessary -  you could have the agent believe that the Cheese/Shock are actually stored in arbitrary, incorrect locations.\n",
    "\n",
    "        if self.current_location == reward_locations[0]:\n",
    "          if self.reward_condition == 'TOP':\n",
    "            reward_obs = 'Cheese'\n",
    "          else:\n",
    "            reward_obs = 'Shock'\n",
    "        elif self.current_location == reward_locations[1]:\n",
    "          if self.reward_condition == 'BOTTOM':\n",
    "            reward_obs = 'Cheese'\n",
    "          else:\n",
    "            reward_obs = 'Shock'\n",
    "        else:\n",
    "          reward_obs = 'Null'\n",
    "\n",
    "        return loc_obs, clue_obs, reward_obs\n",
    "\n",
    "    def reset(self):\n",
    "        self.current_location = self.init_loc\n",
    "        print(f'Re-initialized location to {self.init_loc}')\n",
    "        loc_obs = self.current_location\n",
    "        clue_obs = 'Null'\n",
    "        reward_obs = 'Null'\n",
    "\n",
    "        return loc_obs, clue_obs, reward_obs"
   ]
  },
  {
   "cell_type": "markdown",
   "metadata": {},
   "source": [
    "## Active Inference\n"
   ]
  },
  {
   "cell_type": "markdown",
   "metadata": {},
   "source": [
    "### Initialize an `Agent` and an instance of `GridWorldEnv`"
   ]
  },
  {
   "cell_type": "code",
   "execution_count": 105,
   "metadata": {},
   "outputs": [
    {
     "name": "stdout",
     "output_type": "stream",
     "text": [
      "(20, 20, 2)\n",
      "Starting location is (0, 0), Reward condition is TOP\n",
      "Re-initialized location to (0, 0)\n"
     ]
    }
   ],
   "source": [
    "my_agent = Agent(A = A, B = B, C = C, D = D, policy_len = 4)\n",
    "\n",
    "print(A[0].shape)\n",
    "\n",
    "my_env = GridWorldEnv(starting_loc = (0,0), clue_loc = clue_location, reward_condition = 'TOP')\n",
    "\n",
    "loc_obs, clue_obs, reward_obs = my_env.reset()"
   ]
  },
  {
   "cell_type": "markdown",
   "metadata": {},
   "source": [
    "### Run an active inference loop over time"
   ]
  },
  {
   "cell_type": "code",
   "execution_count": 106,
   "metadata": {},
   "outputs": [],
   "source": [
    "history_of_locs = [loc_obs]\n",
    "obs = [loc_list.index(loc_obs), clue_names.index(clue_obs), reward_names.index(reward_obs)]\n",
    "\n",
    "T = 10 # number of total timesteps\n",
    "\n",
    "for t in range(T):\n",
    "\n",
    "    qs = my_agent.infer_states(obs)\n",
    "\n",
    "    # plot_beliefs(qs[1])\n",
    "    \n",
    "    my_agent.infer_policies()\n",
    "    chosen_action_id = my_agent.sample_action()\n",
    "\n",
    "    movement_id = int(chosen_action_id[0])\n",
    "\n",
    "    choice_action = actions[movement_id]\n",
    "\n",
    "    # print(f'Action at time {t}: {choice_action}')\n",
    "\n",
    "    loc_obs, clue_obs, reward_obs = my_env.step(choice_action)\n",
    "\n",
    "    obs = [loc_list.index(loc_obs), clue_names.index(clue_obs), reward_names.index(reward_obs)]\n",
    "\n",
    "    history_of_locs.append(loc_obs)\n",
    "\n",
    "    # print(f'Grid location at time {t}: {loc_obs}')\n",
    "\n",
    "    # print(f'Clue Obs {t}: {clue_obs}')\n",
    "\n",
    "    # print(f'Reward at time {t}: {reward_obs}')\n"
   ]
  },
  {
   "cell_type": "markdown",
   "metadata": {},
   "source": [
    "### Visualization"
   ]
  },
  {
   "cell_type": "code",
   "execution_count": 107,
   "metadata": {},
   "outputs": [
    {
     "data": {
      "image/png": "[encoded data removed]",
      "text/plain": [
       "<Figure size 1000x600 with 1 Axes>"
      ]
     },
     "metadata": {},
     "output_type": "display_data"
    }
   ],
   "source": [
    "all_locations = np.vstack(history_of_locs).astype(float) # create a matrix containing the agent's Y/X locations over time (each coordinate in one row of the matrix)\n",
    "\n",
    "fig, ax = plt.subplots(figsize=(10, 6)) \n",
    "\n",
    "# create the grid visualization\n",
    "X, Y = np.meshgrid(np.arange(grid_dims[1]+1), np.arange(grid_dims[0]+1))\n",
    "h = ax.pcolormesh(X, Y, np.ones(grid_dims), edgecolors='k', vmin = 0, vmax = 30, linewidth=3, cmap = 'coolwarm')\n",
    "ax.invert_yaxis()\n",
    "\n",
    "clue_loc, reward_condition = my_env.clue_loc, my_env.reward_condition\n",
    "reward_top = ax.add_patch(patches.Rectangle((reward_locations[0][1],reward_locations[0][0]),1.0,1.0,linewidth=5,edgecolor=[0.5, 0.5, 0.5],facecolor='none'))\n",
    "reward_bottom = ax.add_patch(patches.Rectangle((reward_locations[1][1],reward_locations[1][0]),1.0,1.0,linewidth=5,edgecolor=[0.5, 0.5, 0.5],facecolor='none'))\n",
    "reward_loc = reward_locations[0] if reward_condition == \"TOP\" else reward_locations[1]\n",
    "\n",
    "if reward_condition == \"TOP\":\n",
    "    reward_top.set_edgecolor('g')\n",
    "    reward_top.set_facecolor('g')\n",
    "    reward_bottom.set_edgecolor([0.7, 0.2, 0.2])\n",
    "    reward_bottom.set_facecolor([0.7, 0.2, 0.2])\n",
    "elif reward_condition == \"BOTTOM\":\n",
    "    reward_bottom.set_edgecolor('g')\n",
    "    reward_bottom.set_facecolor('g')\n",
    "    reward_top.set_edgecolor([0.7, 0.2, 0.2])\n",
    "    reward_top.set_facecolor([0.7, 0.2, 0.2])\n",
    "reward_top.set_zorder(1)\n",
    "reward_bottom.set_zorder(1)\n",
    "\n",
    "text_offsets = [0.4, 0.6]\n",
    "clue_grid = np.ones(grid_dims)\n",
    "clue_grid[clue_loc[0],clue_loc[1]] = 15.0\n",
    "  \n",
    "h.set_array(clue_grid.ravel())\n",
    "\n",
    "cue1_rect = ax.add_patch(patches.Rectangle((clue_loc[1],clue_loc[0]),1.0,1.0,linewidth=8,edgecolor=[0.5, 0.2, 0.7],facecolor='none'))\n",
    "\n",
    "ax.plot(all_locations[:,1]+0.5,all_locations[:,0]+0.5, 'r', zorder = 2)\n",
    "\n",
    "temporal_colormap = cm.hot(np.linspace(0,1,T+1))\n",
    "dots = ax.scatter(all_locations[:,1]+0.5,all_locations[:,0]+0.5, 450, c = temporal_colormap, zorder=3)\n"
   ]
  }
 ],
 "metadata": {
  "interpreter": {
   "hash": "24ee14d9f6452059a99d44b6cbd71d1bb479b0539b0360a6a17428ecea9f0810"
  },
  "kernelspec": {
   "display_name": "Python 3.8.10 64-bit ('pymdp_env2': conda)",
   "language": "python",
   "name": "python3"
  },
  "language_info": {
   "codemirror_mode": {
    "name": "ipython",
    "version": 3
   },
   "file_extension": ".py",
   "mimetype": "text/x-python",
   "name": "python",
   "nbconvert_exporter": "python",
   "pygments_lexer": "ipython3",
   "version": "3.11.2"
  },
  "orig_nbformat": 4
 },
 "nbformat": 4,
 "nbformat_minor": 2
}
