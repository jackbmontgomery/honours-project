{
 "cells": [
  {
   "cell_type": "markdown",
   "metadata": {},
   "source": [
    "### Imports"
   ]
  },
  {
   "cell_type": "code",
   "execution_count": 1,
   "metadata": {},
   "outputs": [],
   "source": [
    "import os\n",
    "import sys\n",
    "import pathlib\n",
    "import numpy as np\n",
    "import copy\n",
    "\n",
    "from pymdp.agent import Agent\n",
    "from pymdp import utils, maths\n",
    "\n",
    "import matplotlib.pyplot as plt\n",
    "import matplotlib.patches as patches\n",
    "import matplotlib.cm as cm"
   ]
  },
  {
   "cell_type": "markdown",
   "metadata": {},
   "source": [
    "## Grid World Parameters"
   ]
  },
  {
   "cell_type": "code",
   "execution_count": 2,
   "metadata": {},
   "outputs": [],
   "source": [
    "grid_dims       = [5, 3]\n",
    "num_grid_points = np.prod(grid_dims)\n",
    "\n",
    "grid = np.arange(num_grid_points).reshape(grid_dims)\n",
    "it = np.nditer(grid, flags=[\"multi_index\"])\n",
    "loc_list = []\n",
    "while not it.finished:\n",
    "    loc_list.append(it.multi_index)\n",
    "    it.iternext()\n",
    "    \n",
    "clue_locations = [(1, 1), (3, 2)]\n",
    "\n",
    "reward_conditions = [\"TOP\", \"BOTTOM\"]\n",
    "reward_locations = [(0, 2), (4, 2)]\n"
   ]
  },
  {
   "cell_type": "markdown",
   "metadata": {},
   "source": [
    "### Visualize the grid world\n"
   ]
  },
  {
   "cell_type": "code",
   "execution_count": 3,
   "metadata": {},
   "outputs": [
    {
     "data": {
      "image/png": "[encoded data removed]",
      "text/plain": [
       "<Figure size 1000x600 with 1 Axes>"
      ]
     },
     "metadata": {},
     "output_type": "display_data"
    }
   ],
   "source": [
    "import matplotlib.pyplot as plt\n",
    "import matplotlib.patches as patches\n",
    "import matplotlib.cm as cm\n",
    "\n",
    "# Create the plot\n",
    "fig, ax = plt.subplots(figsize=(10, 6))\n",
    "\n",
    "# Create the grid visualization\n",
    "X, Y = np.meshgrid(np.arange(grid_dims[1] + 1), np.arange(grid_dims[0] + 1))\n",
    "h = ax.pcolormesh(X, Y, np.ones(grid_dims), edgecolors='k', vmin=0, vmax=30, linewidth=3, cmap='coolwarm')\n",
    "ax.invert_yaxis()\n",
    "\n",
    "# Put gray boxes around the possible reward locations\n",
    "reward_top = ax.add_patch(patches.Rectangle((reward_locations[0][1], reward_locations[0][0]), 1.0, 1.0, linewidth=5, edgecolor='gray', facecolor='none'))\n",
    "reward_bottom = ax.add_patch(patches.Rectangle((reward_locations[1][1], reward_locations[1][0]), 1.0, 1.0, linewidth=5, edgecolor='gray', facecolor='none'))\n",
    "\n",
    "text_offsets = [0.4, 0.6]\n",
    "\n",
    "clue_grid = np.ones(grid_dims)\n",
    "for i in range(len(clue_locations)):\n",
    "  clue_grid[clue_locations[i][0], clue_locations[i][1]] = 15.0\n",
    "  clue_grid[clue_locations[i][0], clue_locations[i][1]] = 15.0\n",
    "\n",
    "# Highlight the clue and reward locations\n",
    "for ii, loc_ii in enumerate(reward_locations):\n",
    "    row_coord, column_coord = loc_ii\n",
    "    clue_grid[row_coord, column_coord] = 5.0\n",
    "    ax.text(column_coord + text_offsets[0], row_coord + text_offsets[1], \"\", fontsize=15, color='k', fontweight='bold')\n",
    "\n",
    "# Update the color map array\n",
    "h.set_array(clue_grid.ravel())\n",
    "\n",
    "# Plot the clue location\n",
    "for i in range(len(clue_locations)):\n",
    "  ax.scatter(clue_locations[i][1] + 0.5, clue_locations[i][0] + 0.5, color='blue', s=200, label=\"Clue Location\", zorder=5)\n",
    "\n",
    "# Add a legend\n",
    "# plt.legend()\n",
    "plt.title(\"Grid with Clue and Reward Locations\", fontsize=18, fontweight='bold')\n",
    "plt.show()\n",
    "\n",
    "def plot_beliefs(belief_dist, title_str=\"\"):\n",
    "    \"\"\"\n",
    "    Plot a categorical distribution or belief distribution, stored in the 1-D numpy vector `belief_dist`\n",
    "    \"\"\"\n",
    "\n",
    "    if not np.isclose(belief_dist.sum(), 1.0):\n",
    "      raise ValueError(\"Distribution not normalized! Please normalize\")\n",
    "\n",
    "    plt.grid(zorder=0)\n",
    "    plt.bar(range(belief_dist.shape[0]), belief_dist, color='r', zorder=3)\n",
    "    plt.xticks(range(belief_dist.shape[0]))\n",
    "    plt.title(title_str)\n",
    "    plt.show()\n",
    "\n"
   ]
  },
  {
   "cell_type": "markdown",
   "metadata": {},
   "source": [
    "### The observation model: **A** array"
   ]
  },
  {
   "cell_type": "code",
   "execution_count": 4,
   "metadata": {},
   "outputs": [],
   "source": [
    "                   # agent loc,     other agent loc, reward_loc\n",
    "num_states      = [num_grid_points, num_grid_points, len(reward_conditions)]\n",
    "\n",
    "clue_names      = ['Null', 'reward_on_top', 'reward_on_bottom']\n",
    "reward_names    = ['Null', 'Cheese', 'Shock']\n",
    "\n",
    "                  # agent loc,      other agent loc, clue,          , reward\n",
    "num_obs         = [num_grid_points, num_grid_points, len(clue_names), len(reward_names)]"
   ]
  },
  {
   "cell_type": "code",
   "execution_count": 1199,
   "metadata": {},
   "outputs": [],
   "source": [
    "A_m_shapes = [ [o_dim] + num_states for o_dim in num_obs]\n",
    "A = utils.obj_array_zeros(A_m_shapes)\n",
    "\n",
    "# Agent Location\n",
    "for i in range(num_grid_points):\n",
    "\n",
    "    A[0][:, :, i, 0] = np.eye(num_grid_points, num_grid_points)\n",
    "    A[0][:, :, i, 1] = np.eye(num_grid_points, num_grid_points)\n",
    "\n",
    "# Other Agent Location\n",
    "for i in range(num_grid_points):\n",
    "\n",
    "    A[1][:, i, :, 0] = np.eye(num_grid_points, num_grid_points)\n",
    "    A[1][:, i, :, 1] = np.eye(num_grid_points, num_grid_points)\n",
    "\n",
    "# Clue observation\n",
    "A[2][0, :, :, :] = 1.0\n",
    "\n",
    "# Both locations needs to be filled for a clue to be observerd\n",
    "for i, reward_loc in enumerate(reward_locations):\n",
    "\n",
    "    A[2][0, loc_list.index(clue_locations[0]), loc_list.index(clue_locations[1]), i] = 0.0\n",
    "    A[2][i+1, loc_list.index(clue_locations[0]), loc_list.index(clue_locations[1]), i] = 1.0\n",
    "\n",
    "    A[2][0, loc_list.index(clue_locations[1]), loc_list.index(clue_locations[0]), i] = 0.0\n",
    "    A[2][i+1, loc_list.index(clue_locations[1]), loc_list.index(clue_locations[0]), i] = 1.0\n",
    "\n",
    "    # A[2][0, loc_list.index(clue_locations[0]), :, i] = 0.0\n",
    "    # A[2][i+1, loc_list.index(clue_locations[0]), :, i] = 1.0\n",
    "\n",
    "    # A[2][0, loc_list.index(clue_locations[1]), :, i] = 0.0\n",
    "    # A[2][i+1, loc_list.index(clue_locations[1]), :, i] = 1.0\n",
    "\n",
    "# make the reward observation depend on the location (being at reward location) and the reward condition\n",
    "A[3][0, :, :, :] = 1.0\n",
    "\n",
    "rew_top_idx = loc_list.index(reward_locations[0]) # linear index of the location of the \"TOP\" reward location\n",
    "rew_bott_idx = loc_list.index(reward_locations[1]) # linear index of the location of the \"BOTTOM\" reward location\n",
    "\n",
    "# fill out the contingencies when the agent is in the \"TOP\" reward location\n",
    "A[3][0, rew_top_idx, :, :] = 0.0\n",
    "A[3][1, rew_top_idx, :, 0] = 1.0\n",
    "A[3][2, rew_top_idx, :, 1] = 1.0\n",
    "\n",
    "# fill out the contingencies when the agent is in the \"BOTTOM\" `reward location\n",
    "A[3][0, rew_bott_idx, :, :] = 0.0\n",
    "A[3][1, rew_bott_idx, :, 1] = 1.0\n",
    "A[3][2, rew_bott_idx, :, 0] = 1.0"
   ]
  },
  {
   "cell_type": "markdown",
   "metadata": {},
   "source": [
    "### The transition model: **B** array"
   ]
  },
  {
   "cell_type": "code",
   "execution_count": 1200,
   "metadata": {},
   "outputs": [],
   "source": [
    "# initialize `num_controls`\n",
    "num_controls = [5, 1, 1]\n",
    "\n",
    "# initialize the shapes of each sub-array `B[f]`\n",
    "B_f_shapes = [ [ns, ns, num_controls[f]] for f, ns in enumerate(num_states)]\n",
    "\n",
    "# create the `B` array and fill it out\n",
    "B = utils.obj_array_zeros(B_f_shapes)"
   ]
  },
  {
   "cell_type": "markdown",
   "metadata": {},
   "source": [
    "Fill out `B[0]` according to the expected consequences of each of the 5 actions. Note that we also create a list that stores the names of each action, for interpretability."
   ]
  },
  {
   "cell_type": "code",
   "execution_count": 1201,
   "metadata": {},
   "outputs": [],
   "source": [
    "actions = [\"UP\", \"DOWN\", \"LEFT\", \"RIGHT\", \"STAY\"]\n",
    "\n",
    "# fill out `B[0]` using the \n",
    "for action_id, action_label in enumerate(actions):\n",
    "\n",
    "  for curr_state, grid_location in enumerate(loc_list):\n",
    "\n",
    "    y, x = grid_location\n",
    "\n",
    "    if action_label == \"UP\":\n",
    "      next_y = y - 1 if y > 0 else y \n",
    "      next_x = x\n",
    "    elif action_label == \"DOWN\":\n",
    "      next_y = y + 1 if y < (grid_dims[0]-1) else y \n",
    "      next_x = x\n",
    "    elif action_label == \"LEFT\":\n",
    "      next_x = x - 1 if x > 0 else x \n",
    "      next_y = y\n",
    "    elif action_label == \"RIGHT\":\n",
    "      next_x = x + 1 if x < (grid_dims[1]-1) else x \n",
    "      next_y = y\n",
    "    elif action_label == \"STAY\":\n",
    "      next_x = x\n",
    "      next_y = y\n",
    "\n",
    "    new_location = (next_y, next_x)\n",
    "    next_state = loc_list.index(new_location)\n",
    "    B[0][next_state, curr_state, action_id] = 1.0\n",
    "\n",
    "B[1][:,:,0]   = np.full((num_states[1], num_states[1]), 1 / num_states[1])\n",
    "\n",
    "# Reward location will not change\n",
    "B[2][:, :, 0] = np.eye(num_states[2])"
   ]
  },
  {
   "cell_type": "markdown",
   "metadata": {},
   "source": [
    "### Prior preferences: the **C** vectors"
   ]
  },
  {
   "cell_type": "code",
   "execution_count": 1202,
   "metadata": {},
   "outputs": [],
   "source": [
    "C = utils.obj_array_zeros(num_obs)\n",
    "\n",
    "C[3][1] = 2.0  # make the agent want to encounter the \"Cheese\" observation level\n",
    "C[3][2] = -4.0 # make the agent not want to encounter the \"Shock\" observation level"
   ]
  },
  {
   "cell_type": "markdown",
   "metadata": {},
   "source": [
    "### Prior over (initial) hidden states: the **D** vectors"
   ]
  },
  {
   "cell_type": "code",
   "execution_count": 1203,
   "metadata": {},
   "outputs": [],
   "source": [
    "agent_0_starting_loc = (0, 0)\n",
    "agent_1_starting_loc = (4, 0)\n",
    "\n",
    "D_0 = utils.obj_array_uniform(num_states)\n",
    "D_0[0] = utils.onehot(loc_list.index(agent_0_starting_loc), num_grid_points)\n",
    "\n",
    "D_1 = utils.obj_array_uniform(num_states)\n",
    "D_1[0] = utils.onehot(loc_list.index(agent_1_starting_loc), num_grid_points)"
   ]
  },
  {
   "cell_type": "markdown",
   "metadata": {},
   "source": [
    "## Generative process"
   ]
  },
  {
   "cell_type": "markdown",
   "metadata": {},
   "source": [
    "### Writing a custom `env` "
   ]
  },
  {
   "cell_type": "code",
   "execution_count": 1204,
   "metadata": {},
   "outputs": [],
   "source": [
    "class GridWorldEnv():\n",
    "    \n",
    "    def __init__(self, starting_locs = [(0,0), (3,0)], clue_locs = [(1, 1), (3, 1)], reward_condition = 'TOP'):\n",
    "\n",
    "        self.init_loc_0         = starting_locs[0]\n",
    "        self.init_loc_1         = starting_locs[1]\n",
    "\n",
    "        self.current_locations  = [self.init_loc_0, self.init_loc_1]\n",
    "\n",
    "        self.clue_locs           = clue_locs\n",
    "\n",
    "        self.reward_condition = reward_condition\n",
    "    \n",
    "    def step(self,action_labels):\n",
    "        \n",
    "        for i, action_label in enumerate(action_labels):\n",
    "\n",
    "          (Y, X) = self.current_locations[i]\n",
    "\n",
    "          if action_label == \"UP\": \n",
    "            \n",
    "            Y_new = Y - 1 if Y > 0 else Y\n",
    "            X_new = X\n",
    "\n",
    "          elif action_label == \"DOWN\": \n",
    "\n",
    "            Y_new = Y + 1 if Y < (grid_dims[0]-1) else Y\n",
    "            X_new = X\n",
    "\n",
    "          elif action_label == \"LEFT\": \n",
    "            Y_new = Y\n",
    "            X_new = X - 1 if X > 0 else X\n",
    "\n",
    "          elif action_label == \"RIGHT\": \n",
    "            Y_new = Y\n",
    "            X_new = X +1 if X < (grid_dims[1]-1) else X\n",
    "\n",
    "          elif action_label == \"STAY\":\n",
    "            Y_new, X_new = Y, X \n",
    "          \n",
    "          self.current_locations[i] = (Y_new, X_new)\n",
    "\n",
    "        loc_obs_0 = self.current_locations[0] \n",
    "        loc_obs_1 = self.current_locations[1]\n",
    "\n",
    "        # Clue Obs\n",
    "\n",
    "        if self.current_locations[0] == self.clue_locs[0] and self.current_locations[1] == self.clue_locs[1] or self.current_locations[0] == self.clue_locs[1] and self.current_locations[1] == self.clue_locs[0]:\n",
    "          clue_obs = clue_names[reward_conditions.index(self.reward_condition)+1]\n",
    "        else:\n",
    "          clue_obs = 'Null'\n",
    "\n",
    "          # Reward Obs\n",
    "\n",
    "        if self.current_locations[0] == reward_locations[0]:\n",
    "          if self.reward_condition == 'TOP':\n",
    "            reward_obs_0 = 'Cheese'\n",
    "          else:\n",
    "            reward_obs_0 = 'Shock'\n",
    "        elif self.current_locations[0] == reward_locations[1]:\n",
    "          if self.reward_condition == 'BOTTOM':\n",
    "            reward_obs_0 = 'Cheese'\n",
    "          else:\n",
    "            reward_obs_0 = 'Shock'\n",
    "        else:\n",
    "          reward_obs_0 = 'Null'\n",
    "\n",
    "        if self.current_locations[1] == reward_locations[0]:\n",
    "          if self.reward_condition == 'TOP':\n",
    "            reward_obs_1 = 'Cheese'\n",
    "          else:\n",
    "            reward_obs_1 = 'Shock'\n",
    "        elif self.current_locations[1] == reward_locations[1]:\n",
    "          if self.reward_condition == 'BOTTOM':\n",
    "            reward_obs_1 = 'Cheese'\n",
    "          else:\n",
    "            reward_obs_1 = 'Shock'\n",
    "        else:\n",
    "          reward_obs_1 = 'Null'\n",
    "\n",
    "        return loc_obs_0, loc_obs_1, clue_obs, reward_obs_0, reward_obs_1\n",
    "\n",
    "    def reset(self):\n",
    "        self.current_locations = [self.init_loc_0, self.init_loc_1]\n",
    "        loc_obs_0 = self.current_locations[0]\n",
    "        loc_obs_1 = self.current_locations[1]\n",
    "\n",
    "        if self.current_locations[0] == self.clue_locs[0] and self.current_locations[1] == self.clue_locs[1] or self.current_locations[0] == self.clue_locs[1] and self.current_locations[1] == self.clue_locs[0]:\n",
    "          clue_obs = clue_names[reward_conditions.index(self.reward_condition)+1]\n",
    "        else:\n",
    "          clue_obs = 'Null'\n",
    "          \n",
    "        reward_obs = 'Null'\n",
    "\n",
    "        return loc_obs_0, loc_obs_1, clue_obs, reward_obs, reward_obs"
   ]
  },
  {
   "cell_type": "markdown",
   "metadata": {},
   "source": [
    "## Active Inference\n"
   ]
  },
  {
   "cell_type": "markdown",
   "metadata": {},
   "source": [
    "### Initialize an `Agent` and an instance of `GridWorldEnv`"
   ]
  },
  {
   "cell_type": "code",
   "execution_count": 1205,
   "metadata": {},
   "outputs": [],
   "source": [
    "agent_0 = Agent(A = A, B = B, C = C, D = D_0, policy_len = 3)\n",
    "agent_1 = Agent(A = A, B = B, C = C, D = D_1, policy_len = 3)\n",
    "\n",
    "env     = GridWorldEnv(clue_locs=clue_locations, reward_condition = 'BOTTOM')\n",
    "\n",
    "loc_0, loc_1, clue_obs, reward_obs_0, reward_obs_1 = env.reset()"
   ]
  },
  {
   "cell_type": "markdown",
   "metadata": {},
   "source": [
    "### Run an active inference loop over time"
   ]
  },
  {
   "cell_type": "code",
   "execution_count": 1206,
   "metadata": {},
   "outputs": [
    {
     "name": "stdout",
     "output_type": "stream",
     "text": [
      "-----------\n",
      "Agent 0: Action at time 0: DOWN\n",
      "Agent 1: Action at time 0: UP\n",
      "Agent 0: Grid location at time 0: (1, 0)\n",
      "Agent 1: Grid location at time 0: (2, 0)\n",
      "Clue Obs 0: Null\n",
      "Agent 0: Reward at time 0: Null\n",
      "Agent 1: Reward at time 0: Null\n",
      "-----------\n",
      "Agent 0: Action at time 1: RIGHT\n",
      "Agent 1: Action at time 1: RIGHT\n",
      "Agent 0: Grid location at time 1: (1, 1)\n",
      "Agent 1: Grid location at time 1: (2, 1)\n",
      "Clue Obs 1: Null\n",
      "Agent 0: Reward at time 1: Null\n",
      "Agent 1: Reward at time 1: Null\n",
      "-----------\n",
      "Agent 0: Action at time 2: STAY\n",
      "Agent 1: Action at time 2: RIGHT\n",
      "Agent 0: Grid location at time 2: (1, 1)\n",
      "Agent 1: Grid location at time 2: (2, 2)\n",
      "Clue Obs 2: Null\n",
      "Agent 0: Reward at time 2: Null\n",
      "Agent 1: Reward at time 2: Null\n",
      "-----------\n",
      "Agent 0: Action at time 3: STAY\n",
      "Agent 1: Action at time 3: STAY\n",
      "Agent 0: Grid location at time 3: (1, 1)\n",
      "Agent 1: Grid location at time 3: (2, 2)\n",
      "Clue Obs 3: Null\n",
      "Agent 0: Reward at time 3: Null\n",
      "Agent 1: Reward at time 3: Null\n",
      "-----------\n",
      "Agent 0: Action at time 4: STAY\n",
      "Agent 1: Action at time 4: RIGHT\n",
      "Agent 0: Grid location at time 4: (1, 1)\n",
      "Agent 1: Grid location at time 4: (2, 2)\n",
      "Clue Obs 4: Null\n",
      "Agent 0: Reward at time 4: Null\n",
      "Agent 1: Reward at time 4: Null\n",
      "-----------\n",
      "Agent 0: Action at time 5: STAY\n",
      "Agent 1: Action at time 5: RIGHT\n",
      "Agent 0: Grid location at time 5: (1, 1)\n",
      "Agent 1: Grid location at time 5: (2, 2)\n",
      "Clue Obs 5: Null\n",
      "Agent 0: Reward at time 5: Null\n",
      "Agent 1: Reward at time 5: Null\n",
      "-----------\n",
      "Agent 0: Action at time 6: STAY\n",
      "Agent 1: Action at time 6: STAY\n",
      "Agent 0: Grid location at time 6: (1, 1)\n",
      "Agent 1: Grid location at time 6: (2, 2)\n",
      "Clue Obs 6: Null\n",
      "Agent 0: Reward at time 6: Null\n",
      "Agent 1: Reward at time 6: Null\n",
      "-----------\n",
      "Agent 0: Action at time 7: STAY\n",
      "Agent 1: Action at time 7: STAY\n",
      "Agent 0: Grid location at time 7: (1, 1)\n",
      "Agent 1: Grid location at time 7: (2, 2)\n",
      "Clue Obs 7: Null\n",
      "Agent 0: Reward at time 7: Null\n",
      "Agent 1: Reward at time 7: Null\n",
      "-----------\n",
      "Agent 0: Action at time 8: STAY\n",
      "Agent 1: Action at time 8: DOWN\n",
      "Agent 0: Grid location at time 8: (1, 1)\n",
      "Agent 1: Grid location at time 8: (3, 2)\n",
      "Clue Obs 8: reward_on_bottom\n",
      "Agent 0: Reward at time 8: Null\n",
      "Agent 1: Reward at time 8: Null\n",
      "-----------\n",
      "Agent 0: Action at time 9: DOWN\n",
      "Agent 1: Action at time 9: DOWN\n",
      "Agent 0: Grid location at time 9: (2, 1)\n",
      "Agent 1: Grid location at time 9: (4, 2)\n",
      "Clue Obs 9: Null\n",
      "Agent 0: Reward at time 9: Null\n",
      "Agent 1: Reward at time 9: Cheese\n"
     ]
    }
   ],
   "source": [
    "history_of_locs_0 = [loc_0]\n",
    "history_of_locs_1 = [loc_1]\n",
    "\n",
    "T = 10 # number of total timestepss\n",
    "\n",
    "agent_0_obs = [loc_list.index(loc_0), loc_list.index(loc_1), clue_names.index(clue_obs), reward_names.index(reward_obs_0)]\n",
    "agent_1_obs = [loc_list.index(loc_1), loc_list.index(loc_0), clue_names.index(clue_obs), reward_names.index(reward_obs_1)]\n",
    "\n",
    "for t in range(T):\n",
    "\n",
    "    print(\"-----------\")\n",
    "\n",
    "\n",
    "    qs_0 = agent_0.infer_states(agent_0_obs)\n",
    "    qs_1 = agent_1.infer_states(agent_1_obs)\n",
    "\n",
    "    # plot_beliefs(qs_0[2])\n",
    "    \n",
    "    agent_0.infer_policies()\n",
    "    agent_1.infer_policies()\n",
    "\n",
    "    chosen_action_0_id = agent_0.sample_action()\n",
    "    chosen_action_1_id = agent_1.sample_action()\n",
    "\n",
    "    movement_0_id = int(chosen_action_0_id[0])\n",
    "    movement_1_id = int(chosen_action_1_id[0])\n",
    "\n",
    "    choice_action_0 = actions[movement_0_id]\n",
    "    choice_action_1 = actions[movement_1_id]\n",
    "\n",
    "    print(f'Agent 0: Action at time {t}: {choice_action_0}')\n",
    "    print(f'Agent 1: Action at time {t}: {choice_action_1}')\n",
    "\n",
    "    loc_0, loc_1, clue_obs, reward_obs_0, reward_obs_1 = env.step([choice_action_0, choice_action_1])\n",
    "\n",
    "    agent_0_obs = [loc_list.index(loc_0), loc_list.index(loc_1), clue_names.index(clue_obs), reward_names.index(reward_obs_0)]\n",
    "    agent_1_obs = [loc_list.index(loc_1), loc_list.index(loc_0), clue_names.index(clue_obs), reward_names.index(reward_obs_1)]\n",
    "\n",
    "    history_of_locs_0.append(loc_0)\n",
    "    history_of_locs_1.append(loc_1)\n",
    "\n",
    "    print(f'Agent 0: Grid location at time {t}: {loc_0}')\n",
    "    print(f'Agent 1: Grid location at time {t}: {loc_1}')\n",
    "\n",
    "    print(f'Clue Obs {t}: {clue_obs}')\n",
    "\n",
    "    print(f'Agent 0: Reward at time {t}: {reward_obs_0}')\n",
    "    print(f'Agent 1: Reward at time {t}: {reward_obs_1}')\n"
   ]
  },
  {
   "cell_type": "markdown",
   "metadata": {},
   "source": [
    "### Visualization"
   ]
  },
  {
   "cell_type": "code",
   "execution_count": 1207,
   "metadata": {},
   "outputs": [
    {
     "data": {
      "image/png": "[encoded data removed]",
      "text/plain": [
       "<Figure size 1000x600 with 1 Axes>"
      ]
     },
     "metadata": {},
     "output_type": "display_data"
    }
   ],
   "source": [
    "all_locations_0 = np.vstack(history_of_locs_0).astype(float) # create a matrix containing the agent's Y/X locations over time (each coordinate in one row of the matrix)\n",
    "all_locations_1 = np.vstack(history_of_locs_1).astype(float) # create a matrix containing the agent's Y/X locations over time (each coordinate in one row of the matrix)\n",
    "\n",
    "fig, ax = plt.subplots(figsize=(10, 6)) \n",
    "\n",
    "# create the grid visualization\n",
    "X, Y = np.meshgrid(np.arange(grid_dims[1]+1), np.arange(grid_dims[0]+1))\n",
    "h = ax.pcolormesh(X, Y, np.ones(grid_dims), edgecolors='k', vmin = 0, vmax = 30, linewidth=3, cmap = 'coolwarm')\n",
    "ax.invert_yaxis()\n",
    "\n",
    "reward_condition = env.reward_condition\n",
    "clue_loc_0 = env.clue_locs[0]\n",
    "clue_loc_1 = env.clue_locs[1]\n",
    "\n",
    "reward_top = ax.add_patch(patches.Rectangle((reward_locations[0][1],reward_locations[0][0]),1.0,1.0,linewidth=5,edgecolor=[0.5, 0.5, 0.5],facecolor='none'))\n",
    "reward_bottom = ax.add_patch(patches.Rectangle((reward_locations[1][1],reward_locations[1][0]),1.0,1.0,linewidth=5,edgecolor=[0.5, 0.5, 0.5],facecolor='none'))\n",
    "\n",
    "reward_loc = reward_locations[0] if reward_condition == \"TOP\" else reward_locations[1]\n",
    "\n",
    "if reward_condition == \"TOP\":\n",
    "    reward_top.set_edgecolor('g')\n",
    "    reward_top.set_facecolor('g')\n",
    "    reward_bottom.set_edgecolor([0.7, 0.2, 0.2])\n",
    "    reward_bottom.set_facecolor([0.7, 0.2, 0.2])\n",
    "\n",
    "elif reward_condition == \"BOTTOM\":\n",
    "    reward_bottom.set_edgecolor('g')\n",
    "    reward_bottom.set_facecolor('g')\n",
    "    reward_top.set_edgecolor([0.7, 0.2, 0.2])\n",
    "    reward_top.set_facecolor([0.7, 0.2, 0.2])\n",
    "reward_top.set_zorder(1)\n",
    "reward_bottom.set_zorder(1)\n",
    "\n",
    "text_offsets = [0.4, 0.6]\n",
    "clue_grid = np.ones(grid_dims)\n",
    "clue_grid[clue_loc_0[0],clue_loc_0[1]] = 15.0\n",
    "clue_grid[clue_loc_1[0],clue_loc_1[1]] = 15.0\n",
    "  \n",
    "h.set_array(clue_grid.ravel())\n",
    "\n",
    "clue0_rect = ax.add_patch(patches.Rectangle((clue_loc_0[1],clue_loc_0[0]),1.0,1.0,linewidth=8,edgecolor=[0.5, 0.2, 0.7],facecolor='none'))\n",
    "clue1_rect = ax.add_patch(patches.Rectangle((clue_loc_1[1],clue_loc_1[0]),1.0,1.0,linewidth=8,edgecolor=[0.5, 0.2, 0.7],facecolor='none'))\n",
    "\n",
    "ax.plot(all_locations_0[:,1]+0.5,all_locations_0[:,0]+0.5, 'r', zorder = 2)\n",
    "ax.plot(all_locations_1[:,1]+0.5,all_locations_1[:,0]+0.5, 'r', zorder = 2)\n",
    "\n",
    "temporal_colormap = cm.hot(np.linspace(0,1,T+1))\n",
    "ax.scatter(all_locations_0[:,1]+0.5,all_locations_0[:,0]+0.5, 450, c = temporal_colormap, zorder=3)\n",
    "ax.scatter(all_locations_1[:,1]+0.5,all_locations_1[:,0]+0.5, 450, c = temporal_colormap, zorder=3)\n",
    "plt.show()\n"
   ]
  }
 ],
 "metadata": {
  "interpreter": {
   "hash": "24ee14d9f6452059a99d44b6cbd71d1bb479b0539b0360a6a17428ecea9f0810"
  },
  "kernelspec": {
   "display_name": "Python 3.8.10 64-bit ('pymdp_env2': conda)",
   "language": "python",
   "name": "python3"
  },
  "language_info": {
   "codemirror_mode": {
    "name": "ipython",
    "version": 3
   },
   "file_extension": ".py",
   "mimetype": "text/x-python",
   "name": "python",
   "nbconvert_exporter": "python",
   "pygments_lexer": "ipython3",
   "version": "3.11.2"
  },
  "orig_nbformat": 4
 },
 "nbformat": 4,
 "nbformat_minor": 2
}
