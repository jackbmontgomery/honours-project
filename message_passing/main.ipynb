{
 "cells": [
  {
   "cell_type": "markdown",
   "id": "41e47440",
   "metadata": {},
   "source": [
    "# Active Inference Mountain car"
   ]
  },
  {
   "cell_type": "code",
   "execution_count": 298,
   "id": "fcbc7485",
   "metadata": {},
   "outputs": [],
   "source": [
    "import Pkg;\n",
    "Pkg.activate(\".\");\n",
    "Pkg.instantiate();\n",
    "Pkg.add(\"DataFrames\");"
   ]
  },
  {
   "cell_type": "code",
   "execution_count": 299,
   "id": "5e3fda93",
   "metadata": {},
   "outputs": [],
   "source": [
    "using RxInfer, Plots, Distributions, CSV, DataFrames"
   ]
  },
  {
   "cell_type": "code",
   "execution_count": 300,
   "id": "49986f41",
   "metadata": {},
   "outputs": [
    {
     "data": {
      "text/plain": [
       "create_physics (generic function with 1 method)"
      ]
     },
     "metadata": {},
     "output_type": "display_data"
    }
   ],
   "source": [
    "import HypergeometricFunctions: _₂F₁\n",
    "\n",
    "function create_physics(; engine_force_limit = 0.04, friction_coefficient = 0.1)\n",
    "    \n",
    "    # Engine force as function of action\n",
    "    Fa = (a::Real) -> engine_force_limit * tanh(a) \n",
    "    # Derivative of the engine force\n",
    "    Fa_prime = (a::Real) -> engine_force_limit - engine_force_limit * tanh(a)^2 \n",
    "    # Friction force as function of velocity\n",
    "    Ff = (y_dot::Real) -> -friction_coefficient * y_dot \n",
    "    # Derivative of the friction force\n",
    "    Ff_prime = (y_dot::Real) -> -friction_coefficient \n",
    "    \n",
    "    # Gravitational force (horizontal component) as function of position\n",
    "    Fg = (y::Real) -> begin\n",
    "        if y < 0\n",
    "            0.05*(-2*y - 1)\n",
    "        else\n",
    "            0.05*(-(1 + 5*y^2)^(-0.5) - (y^2)*(1 + 5*y^2)^(-3/2) - (y^4)/16)\n",
    "        end\n",
    "    end\n",
    "\n",
    "    # Derivative of the gravitational force\n",
    "    Fg_prime = (y::Real) -> begin \n",
    "        if y < 0\n",
    "            -0.1\n",
    "        else\n",
    "            0.05*((-4*y^3)/16 + (5*y)/(1 + 5*y^2)^1.5 + (3*5*y^3)/(1 + 5*y^2)^(5/2) - (2*y)/(1 + 5*y^2)^(3/2))\n",
    "        end\n",
    "    end\n",
    "    \n",
    "    # The height of the landscape as a function of the horizontal coordinate\n",
    "    height = (x::Float64) -> begin\n",
    "        if x < 0\n",
    "            h = x^2 + x\n",
    "        else\n",
    "            h = x * _₂F₁(0.5,0.5,1.5, -5*x^2) + x^3 * _₂F₁(1.5, 1.5, 2.5, -5*x^2) / 3 + x^5 / 80\n",
    "        end\n",
    "        return 0.05*h\n",
    "    end\n",
    "    \n",
    "    return (Fa, Fa_prime, Ff, Ff_prime, Fg, Fg_prime, height)\n",
    "end"
   ]
  },
  {
   "cell_type": "code",
   "execution_count": 301,
   "id": "78a3026d",
   "metadata": {},
   "outputs": [
    {
     "data": {
      "text/plain": [
       "\"/Users/jackmontgomery/Desktop/UCT/Research_Project/active-temporal-predictive-coding/message_passing/mountain_car_plot.png\""
      ]
     },
     "metadata": {},
     "output_type": "display_data"
    }
   ],
   "source": [
    "engine_force_limit   = 0.04\n",
    "friction_coefficient = 0.1\n",
    "\n",
    "Fa, Fa_prime, Ff, Ff_prime, Fg, Fg_prime, height = create_physics(\n",
    "    engine_force_limit = engine_force_limit,\n",
    "    friction_coefficient = friction_coefficient\n",
    ");\n",
    "\n",
    "initial_position = -0.5\n",
    "initial_velocity = 0.0\n",
    "\n",
    "x_target = [0.75, 0.0] \n",
    "\n",
    "valley_x = range(-2, 2, length=400)\n",
    "valley_y = [ height(xs) for xs in valley_x ]\n",
    "plot(valley_x, valley_y, title = \"Mountain Car\", label = \"Landscape\", color = \"black\")\n",
    "scatter!([ initial_position ], [ height(initial_position) ], label=\"Startig Position\")   \n",
    "scatter!([x_target[1]], [height(x_target[1])], label=\"Goal\")\n",
    "savefig(\"mountain_car_plot.png\")\n"
   ]
  },
  {
   "cell_type": "code",
   "execution_count": 302,
   "id": "ee4a26e0",
   "metadata": {},
   "outputs": [
    {
     "data": {
      "text/plain": [
       "create_world (generic function with 1 method)"
      ]
     },
     "metadata": {},
     "output_type": "display_data"
    }
   ],
   "source": [
    "function create_world(; Fg, Ff, Fa, initial_position = -0.5, initial_velocity = 0.0)\n",
    "\n",
    "    y_t_min = initial_position\n",
    "    y_dot_t_min = initial_velocity\n",
    "    \n",
    "    y_t = y_t_min\n",
    "    y_dot_t = y_dot_t_min\n",
    "    \n",
    "    execute = (a_t::Float64) -> begin\n",
    "        # Compute next state\n",
    "        y_dot_t = y_dot_t_min + Fg(y_t_min) + Ff(y_dot_t_min) + Fa(a_t)\n",
    "        y_t = y_t_min + y_dot_t\n",
    "    \n",
    "        # Reset state for next step\n",
    "        y_t_min = y_t\n",
    "        y_dot_t_min = y_dot_t\n",
    "    end\n",
    "    \n",
    "    observe = () -> begin \n",
    "        return [y_t, y_dot_t]\n",
    "    end\n",
    "        \n",
    "    return (execute, observe)\n",
    "end"
   ]
  },
  {
   "cell_type": "markdown",
   "id": "3ca0cccb",
   "metadata": {},
   "source": [
    "![](ai-mountain-car-naive.gif)"
   ]
  },
  {
   "cell_type": "code",
   "execution_count": 303,
   "id": "037c0d5b",
   "metadata": {},
   "outputs": [],
   "source": [
    "@model function mountain_car(m_u, V_u, m_x, V_x, m_s_t_min, V_s_t_min, T, Fg, Fa, Ff, engine_force_limit)\n",
    "\n",
    "    # Transition function modeling transition due to gravity and friction\n",
    "    g = (s_t_min::AbstractVector) -> begin\n",
    "        s_t = similar(s_t_min) # Next state\n",
    "        s_t[2] = s_t_min[2] + Fg(s_t_min[1]) + Ff(s_t_min[2]) # Update velocity\n",
    "        s_t[1] = s_t_min[1] + s_t[2] # Update position\n",
    "        return s_t\n",
    "    end\n",
    "\n",
    "    # Function for modeling engine control\n",
    "    h = (u::AbstractVector) -> [0.0, Fa(u[1])]\n",
    "\n",
    "    # Internal model perameters\n",
    "    Gamma = 1e-4 * diageye(2) # Transition precision\n",
    "    Theta = 1e-4 * diageye(2) # Observation variance\n",
    "\n",
    "    s_t_min ~ MvNormal(mean=m_s_t_min, cov=V_s_t_min)\n",
    "    s_k_min = s_t_min\n",
    "\n",
    "    local s\n",
    "\n",
    "    for k in 1:T\n",
    "\n",
    "        u[k] ~ MvNormal(mean=m_u[k], cov=V_u[k])\n",
    "\n",
    "        u_h_k[k] ~ h(u[k]) where {meta=DeltaMeta(method = Linearization())}\n",
    "        s_g_k[k] ~ g(s_k_min) where {meta=DeltaMeta(method = Linearization())}\n",
    "        u_s_sum[k] ~ s_g_k[k] + u_h_k[k]\n",
    "\n",
    "        s[k] ~ MvNormal(mean=u_s_sum[k], cov=Gamma)\n",
    "        x[k] ~ MvNormal(mean=s[k], cov=Theta)\n",
    "        x[k] ~ MvNormal(mean=m_x[k], cov=V_x[k]) # goal\n",
    "        \n",
    "        s_k_min = s[k]\n",
    "    end\n",
    "\n",
    "    return (s,)\n",
    "end"
   ]
  },
  {
   "cell_type": "code",
   "execution_count": 304,
   "id": "42b9d130",
   "metadata": {},
   "outputs": [
    {
     "data": {
      "text/plain": [
       "create_agent (generic function with 1 method)"
      ]
     },
     "metadata": {},
     "output_type": "display_data"
    }
   ],
   "source": [
    "import RxInfer.ReactiveMP: getrecent, messageout\n",
    "\n",
    "function create_agent(; T=20, Fg, Fa, Ff, engine_force_limit, x_target, initial_position, initial_velocity)\n",
    "\n",
    "    # Control\n",
    "    Epsilon = fill(1e4, 1, 1)\n",
    "    m_u = Vector{Float64}[[0.0] for k = 1:T]    # Centered around 0\n",
    "    V_u = Matrix{Float64}[Epsilon for k = 1:T]  # High Variance\n",
    "\n",
    "\n",
    "    # Observations\n",
    "    m_x = [zeros(2) for k = 1:T]                # Centered at 0\n",
    "    V_x = [huge * diageye(2) for k = 1:T]       # High Variance\n",
    "    \n",
    "    Sigma = 1e-4 * diageye(2)                   # Until the target time\n",
    "    V_x[end] = Sigma                            # Then set small variance\n",
    "    m_x[end] = x_target                         # Then set small variance\n",
    "\n",
    "    # Initial Hidden State\n",
    "    m_s_t_min = [initial_position, initial_velocity]\n",
    "    V_s_t_min = tiny * diageye(2)\n",
    "\n",
    "    # Initialise infernce result\n",
    "\n",
    "    result = nothing\n",
    "\n",
    "    compute = (upsilon_t::Float64, y_hat_t::Vector{Float64}) -> begin\n",
    "\n",
    "        m_u[1] = [upsilon_t]        # Register action with the generative model\n",
    "        V_u[1] = fill(tiny, 1, 1)   # Clamp control prior to performed action\n",
    "\n",
    "        m_x[1] = y_hat_t            # Register actual obseved value with the generative model\n",
    "        V_x[1] = tiny * diageye(2)  # Clamp observation prior to the observed value\n",
    "\n",
    "        data = Dict(:m_u => m_u,\n",
    "            :V_u => V_u,\n",
    "            :m_x => m_x,\n",
    "            :V_x => V_x,\n",
    "            :m_s_t_min => m_s_t_min,\n",
    "            :V_s_t_min => V_s_t_min)\n",
    "\n",
    "        model = mountain_car(T=T, Fg=Fg, Fa=Fa, Ff=Ff, engine_force_limit=engine_force_limit)\n",
    "        result = infer(\n",
    "            model=model,\n",
    "            data=data,\n",
    "            free_energy=true\n",
    "        )\n",
    "        return result.free_energy\n",
    "    end\n",
    "\n",
    "    # The `act` function returns the inferred best possible action\n",
    "    act = () -> begin\n",
    "        if result !== nothing\n",
    "            return mode(result.posteriors[:u][2])[1]\n",
    "        else\n",
    "            return 0.0 # Without inference result we return some 'random' action\n",
    "        end\n",
    "    end\n",
    "\n",
    "    # The `slide` function modifies the `(m_s_t_min, V_s_t_min)` for the next step\n",
    "    # and shifts (or slides) the array of future goals `(m_x, V_x)` and inferred actions `(m_u, V_u)`\n",
    "    slide = () -> begin\n",
    "\n",
    "        model = RxInfer.getmodel(result.model)\n",
    "        (s,) = RxInfer.getreturnval(model)\n",
    "        varref = RxInfer.getvarref(model, s)\n",
    "        var = RxInfer.getvariable(varref)\n",
    "\n",
    "        slide_msg_idx = 3 # This index is model dependend\n",
    "        (m_s_t_min, V_s_t_min) = mean_cov(getrecent(messageout(var[2], slide_msg_idx)))\n",
    "\n",
    "        m_u = circshift(m_u, -1)\n",
    "        m_u[end] = [0.0]\n",
    "        V_u = circshift(V_u, -1)\n",
    "        V_u[end] = Epsilon\n",
    "\n",
    "        m_x = circshift(m_x, -1)\n",
    "        m_x[end] = x_target\n",
    "        V_x = circshift(V_x, -1)\n",
    "        V_x[end] = Sigma\n",
    "    end\n",
    "\n",
    "    return (compute, act, slide)\n",
    "end"
   ]
  },
  {
   "cell_type": "code",
   "execution_count": 305,
   "id": "df06c331",
   "metadata": {},
   "outputs": [],
   "source": [
    "(execute_ai, observe_ai) = create_world(\n",
    "    Fg=Fg, Ff=Ff, Fa=Fa,\n",
    "    initial_position=initial_position,\n",
    "    initial_velocity=initial_velocity\n",
    ") # Let there be a world\n",
    "\n",
    "T_ai = 25\n",
    "\n",
    "(compute_ai, act_ai, slide_ai) = create_agent(;\n",
    "    T=T_ai,\n",
    "    Fa=Fa,\n",
    "    Fg=Fg,\n",
    "    Ff=Ff,\n",
    "    engine_force_limit=engine_force_limit,\n",
    "    x_target=x_target,\n",
    "    initial_position=initial_position,\n",
    "    initial_velocity=initial_velocity\n",
    ")\n",
    "\n",
    "N_ai = 100\n",
    "\n",
    "agent_a = Vector{Float64}(undef, N_ai)          # Actions\n",
    "agent_x = Vector{Vector{Float64}}(undef, N_ai)  # Observations\n",
    "agent_e = Vector{Vector{Float64}}(undef, N_ai)  # Free energy\n",
    "\n",
    "for t = 1:N_ai\n",
    "    agent_a[t] = act_ai()               # Invoke an action from the agent\n",
    "    execute_ai(agent_a[t])              # The action influences hidden external states\n",
    "    agent_x[t] = observe_ai()           # Observe the current environmental outcome (update p)\n",
    "    agent_e[t] = compute_ai(agent_a[t], agent_x[t])  # Infer beliefs from current model state (update q)\n",
    "    slide_ai()                          # Prepare for next iteration\n",
    "end"
   ]
  },
  {
   "cell_type": "code",
   "execution_count": 306,
   "id": "7d4490c6",
   "metadata": {},
   "outputs": [
    {
     "data": {
      "text/plain": [
       "\"ai_simulation_data.csv\""
      ]
     },
     "metadata": {},
     "output_type": "display_data"
    }
   ],
   "source": [
    "# Create a DataFrame for storing the data\n",
    "df = DataFrame(\n",
    "    time=1:N_ai,\n",
    "    actions=agent_a,\n",
    "    observations=[x[1] for x in agent_x],  # Assuming 1D observations for simplicity\n",
    "    free_energy=[e[1] for e in agent_e]    # Assuming 1D free energy values\n",
    ")\n",
    "\n",
    "# Save the data to a CSV file\n",
    "CSV.write(\"ai_simulation_data.csv\", df)"
   ]
  },
  {
   "cell_type": "code",
   "execution_count": 307,
   "id": "7d3cefd3",
   "metadata": {},
   "outputs": [],
   "source": [
    "animation_ai = @animate for i in 1:N_ai\n",
    "\n",
    "    pls = plot(valley_x, valley_y, title=\"Active inference results\", label=\"Landscape\", color=\"black\")\n",
    "\n",
    "    pls = scatter!(pls, [agent_x[i][1]], [height(agent_x[i][1])], label=\"car\")\n",
    "    pls = scatter!(pls, [x_target[1]], [height(x_target[1])], label=\"goal\")\n",
    "\n",
    "    # pef - plot engine force\n",
    "    pef = plot(Fa.(agent_a[1:i]), title=\"Engine force (agents actions)\", xlim=(0, N_ai), ylim=(-0.05, 0.05))\n",
    "\n",
    "    plot(pls, pef, size=(800, 400))\n",
    "end\n",
    "\n",
    "gif(animation_ai, \"./ai-mountain-car-ai.gif\", fps=20, show_msg=false);"
   ]
  }
 ],
 "metadata": {
  "kernelspec": {
   "display_name": "Julia 1.10.5",
   "language": "julia",
   "name": "julia-1.10"
  },
  "language_info": {
   "file_extension": ".jl",
   "mimetype": "application/julia",
   "name": "julia",
   "version": "1.10.5"
  }
 },
 "nbformat": 4,
 "nbformat_minor": 5
}
