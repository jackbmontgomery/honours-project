{
 "cells": [
  {
   "cell_type": "code",
   "execution_count": 10,
   "metadata": {},
   "outputs": [],
   "source": [
    "import numpy as np\n",
    "import matplotlib.pyplot as plt\n",
    "from pymdp.envs import Env"
   ]
  },
  {
   "cell_type": "code",
   "execution_count": 14,
   "metadata": {},
   "outputs": [],
   "source": [
    "def plot_grid(grid_size, light_locs, firefly_locs):\n",
    "    fig, ax = plt.subplots()\n",
    "    for i in range(grid_size[0]):\n",
    "        for j in range(grid_size[1]):\n",
    "            rect = plt.Rectangle((j, grid_size[0] - i - 1), 1, 1, edgecolor='black', facecolor='white')\n",
    "            ax.add_patch(rect)\n",
    "            if (i, j) in light_locs:\n",
    "                ax.text(j + 0.5, grid_size[0] - i - 1 + 0.5, 'L', ha='center', va='center', fontsize=16, color='orange')\n",
    "            if (i, j) in firefly_locs:\n",
    "                ax.text(j + 0.5, grid_size[0] - i - 1 + 0.5, 'F', ha='center', va='center', fontsize=16, color='blue')\n",
    "\n",
    "    ax.set_xlim(0, grid_size[1])\n",
    "    ax.set_ylim(0, grid_size[0])\n",
    "    ax.set_xticks(np.arange(grid_size[1]) + 0.5)\n",
    "    ax.set_yticks(np.arange(grid_size[0]) + 0.5)\n",
    "    ax.set_xticklabels([])\n",
    "    ax.set_yticklabels([])\n",
    "    # ax.grid(False)\n",
    "    ax.set_aspect('equal')\n",
    "    plt.gca().invert_yaxis()\n",
    "    plt.show()"
   ]
  },
  {
   "cell_type": "code",
   "execution_count": 8,
   "metadata": {},
   "outputs": [],
   "source": [
    "GRID_SIZE               = [3, 3]\n",
    "LIGHT_LOCATIONS         = [(0, 1), (2, 1)]\n",
    "INIT_FIREFLY_LOCATIONS  = [(1, 0), (1, 2)]\n",
    "\n",
    "num_grid_points = np.prod(GRID_SIZE)\n",
    "\n",
    "# grid = np.arange(num_grid_points).reshape(GRID_SIZE)\n",
    "# it = np.nditer(grid, flags=[\"multi_index\"])\n",
    "\n",
    "# loc_list = []\n",
    "# while not it.finished:\n",
    "#     loc_list.append(it.multi_index)\n",
    "#     it.iternext()\n",
    "\n",
    "# plot_grid(GRID_SIZE, LIGHT_LOCATIONS, INIT_FIREFLY_LOCATIONS)"
   ]
  },
  {
   "cell_type": "code",
   "execution_count": 13,
   "metadata": {},
   "outputs": [
    {
     "data": {
      "image/png": "[encoded data removed]",
      "text/plain": [
       "<Figure size 640x480 with 1 Axes>"
      ]
     },
     "metadata": {},
     "output_type": "display_data"
    }
   ],
   "source": [
    "class FireflySync(Env):\n",
    "\n",
    "    def __init__(self, agents, grid_size = [3, 3], light_locations = [(0, 1), (2, 1)]):\n",
    "\n",
    "        self.grid_size          = grid_size\n",
    "        self.light_locations    = light_locations"
   ]
  }
 ],
 "metadata": {
  "kernelspec": {
   "display_name": "Python 3",
   "language": "python",
   "name": "python3"
  },
  "language_info": {
   "codemirror_mode": {
    "name": "ipython",
    "version": 3
   },
   "file_extension": ".py",
   "mimetype": "text/x-python",
   "name": "python",
   "nbconvert_exporter": "python",
   "pygments_lexer": "ipython3",
   "version": "3.11.2"
  }
 },
 "nbformat": 4,
 "nbformat_minor": 2
}
